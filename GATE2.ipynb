{
 "cells": [
  {
   "cell_type": "code",
   "execution_count": 1,
   "metadata": {
    "scrolled": true
   },
   "outputs": [
    {
     "ename": "ModuleNotFoundError",
     "evalue": "No module named 'keras'",
     "output_type": "error",
     "traceback": [
      "\u001b[1;31m---------------------------------------------------------------------------\u001b[0m",
      "\u001b[1;31mModuleNotFoundError\u001b[0m                       Traceback (most recent call last)",
      "\u001b[1;32m<ipython-input-1-f4abf03a56fa>\u001b[0m in \u001b[0;36m<module>\u001b[1;34m\u001b[0m\n\u001b[0;32m      2\u001b[0m \u001b[1;32mfrom\u001b[0m \u001b[0mIPython\u001b[0m\u001b[1;33m.\u001b[0m\u001b[0mdisplay\u001b[0m \u001b[1;32mimport\u001b[0m \u001b[0mImage\u001b[0m\u001b[1;33m,\u001b[0m \u001b[0mdisplay\u001b[0m\u001b[1;33m,\u001b[0m \u001b[0mclear_output\u001b[0m\u001b[1;33m\u001b[0m\u001b[1;33m\u001b[0m\u001b[0m\n\u001b[0;32m      3\u001b[0m \u001b[1;32mfrom\u001b[0m \u001b[0mcollections\u001b[0m \u001b[1;32mimport\u001b[0m \u001b[0mCounter\u001b[0m\u001b[1;33m\u001b[0m\u001b[1;33m\u001b[0m\u001b[0m\n\u001b[1;32m----> 4\u001b[1;33m \u001b[1;32mimport\u001b[0m \u001b[0mkeras\u001b[0m\u001b[1;33m.\u001b[0m\u001b[0mutils\u001b[0m\u001b[1;33m\u001b[0m\u001b[1;33m\u001b[0m\u001b[0m\n\u001b[0m\u001b[0;32m      5\u001b[0m \u001b[1;32mimport\u001b[0m \u001b[0mmatplotlib\u001b[0m\u001b[1;33m.\u001b[0m\u001b[0mpyplot\u001b[0m \u001b[1;32mas\u001b[0m \u001b[0mplt\u001b[0m\u001b[1;33m\u001b[0m\u001b[1;33m\u001b[0m\u001b[0m\n\u001b[0;32m      6\u001b[0m \u001b[1;32mimport\u001b[0m \u001b[0mseaborn\u001b[0m \u001b[1;32mas\u001b[0m \u001b[0msns\u001b[0m\u001b[1;33m\u001b[0m\u001b[1;33m\u001b[0m\u001b[0m\n",
      "\u001b[1;31mModuleNotFoundError\u001b[0m: No module named 'keras'"
     ]
    }
   ],
   "source": [
    "import urllib\n",
    "from IPython.display import Image, display, clear_output\n",
    "from collections import Counter\n",
    "import keras.utils\n",
    "import matplotlib.pyplot as plt\n",
    "import seaborn as sns \n",
    "%matplotlib inline\n",
    "\n",
    "import json\n",
    "import numpy as np\n",
    "from sklearn.metrics import classification_report, confusion_matrix\n",
    "\n",
    "sns.set_style('whitegrid')"
   ]
  },
  {
   "cell_type": "code",
   "execution_count": 2,
   "metadata": {},
   "outputs": [],
   "source": [
    "import os\n",
    "import h5py\n",
    "import numpy as np\n",
    "import pandas as pd\n",
    "from keras.regularizers import l2, l1\n",
    "from keras.applications.vgg16 import VGG16\n",
    "from keras.preprocessing.image import ImageDataGenerator, array_to_img, img_to_array, load_img\n",
    "from keras.models import Sequential, load_model,Model\n",
    "from keras.layers import Convolution2D, MaxPooling2D, ZeroPadding2D\n",
    "from keras.layers import Activation, Dropout, Flatten, Dense\n",
    "from keras.utils.np_utils import to_categorical\n",
    "from keras import optimizers\n",
    "from keras.callbacks import ModelCheckpoint, History\n",
    "from keras.preprocessing import image"
   ]
  },
  {
   "cell_type": "code",
   "execution_count": 22,
   "metadata": {},
   "outputs": [
    {
     "name": "stderr",
     "output_type": "stream",
     "text": [
      "/usr/lib/python3.5/site-packages/ipykernel_launcher.py:7: UserWarning: Update your `Dense` call to the Keras 2 API: `Dense(256, activation=\"relu\", kernel_regularizer=<keras.reg...)`\n",
      "  import sys\n",
      "/usr/lib/python3.5/site-packages/ipykernel_launcher.py:10: UserWarning: Update your `Model` call to the Keras 2 API: `Model(outputs=Tensor(\"de..., inputs=Tensor(\"in...)`\n",
      "  # Remove the CWD from sys.path while we load stuff.\n"
     ]
    }
   ],
   "source": [
    "vgg16 =VGG16(weights='imagenet', include_top=False,input_shape = (img_width,img_height, 3))\n",
    "\n",
    "for layer in vgg16.layers:\n",
    "        layer.trainable = False\n",
    "x=vgg16.output\n",
    "x=Flatten()(x) # 512, 4, 4\n",
    "x=Dense(256, activation = 'relu', W_regularizer=l2(0.01))(x)\n",
    "x=Dropout(0.5)(x)\n",
    "predictions=Dense(1, activation = 'sigmoid')(x)\n",
    "model_final = Model(input = vgg16.input, output = predictions)\n",
    "model_final.compile(optimizers.SGD(lr=0.0001, momentum=0.9),\n",
    "                  loss='binary_crossentropy', metrics=['accuracy'])\n"
   ]
  },
  {
   "cell_type": "code",
   "execution_count": 30,
   "metadata": {},
   "outputs": [],
   "source": [
    "def train_binary_model():\n",
    "\n",
    "    train_datagen = ImageDataGenerator(rescale=1./255,rotation_range=40,width_shift_range=0.2,\n",
    "                                      height_shift_range=0.2,shear_range=0.2,zoom_range=0.2,\n",
    "                                       horizontal_flip=True,fill_mode='nearest')\n",
    "    test_datagen=ImageDataGenerator(rescale=1./255)\n",
    "    train_generator = train_datagen.flow_from_directory(train_data_dir,\n",
    "                                                target_size=(img_width, img_height),\n",
    "                                                batch_size=16, \n",
    "                                                class_mode='binary') \n",
    "    test_generator = test_datagen.flow_from_directory(validation_data_dir,\n",
    "                                               target_size=(img_width, img_height),\n",
    "                                               batch_size=16,\n",
    "                                               class_mode='binary')\n",
    "\n",
    "    checkpoint = ModelCheckpoint(top_model, monitor='val_acc', \n",
    "                                     verbose=1, save_best_only=True, save_weights_only=True, mode='auto')\n",
    "\n",
    "    fit = model_final.fit_generator(train_generator,\n",
    "                  steps_per_epoch=nb_train_samples//batch_size,                  \n",
    "                  nb_epoch=nb_epoch,\n",
    "                  validation_data=test_generator,\n",
    "                  validation_steps=nb_validation_samples//batch_size,\n",
    "                  verbose=1,\n",
    "                 callbacks=[checkpoint])\n",
    "\n",
    "    with open(location+'/top_history.txt', 'w') as f:\n",
    "        json.dump(fit.history, f)\n",
    "\n",
    "    return model_final, fit.history"
   ]
  },
  {
   "cell_type": "code",
   "execution_count": 31,
   "metadata": {},
   "outputs": [],
   "source": [
    "def plot_metrics(hist, stop=50):\n",
    "    fig, axes = plt.subplots(nrows=1, ncols=2, figsize=(10,4))\n",
    "                            \n",
    "    axes = axes.flatten()\n",
    "\n",
    "    axes[0].plot(range(stop), hist['acc'], label='Training', color='#FF533D')\n",
    "    axes[0].plot(range(stop), hist['val_acc'], label='Validation', color='#03507E')\n",
    "    axes[0].set_title('Accuracy')\n",
    "    axes[0].set_ylabel('Accuracy')\n",
    "    axes[0].set_xlabel('Epoch')\n",
    "    axes[0].legend(loc='lower right')\n",
    "                             \n",
    "    axes[1].plot(range(stop), hist['loss'], label='Training', color='#FF533D')\n",
    "    axes[1].plot(range(stop), hist['val_loss'], label='Validation', color='#03507E')\n",
    "    axes[1].set_title('Loss')\n",
    "    axes[1].set_ylabel('Loss')\n",
    "    axes[1].set_xlabel('Epoch')\n",
    "    axes[1].legend(loc='upper right')\n",
    "                             \n",
    "    plt.tight_layout();"
   ]
  },
  {
   "cell_type": "code",
   "execution_count": 19,
   "metadata": {},
   "outputs": [],
   "source": [
    "def evaluate_binary_model(model, directory, labels):\n",
    "    datagen = ImageDataGenerator(rescale=1./255)  \n",
    "\n",
    "    generator = datagen.flow_from_directory(validation_data_dir,\n",
    "                                target_size=(img_height, img_width),\n",
    "                                batch_size=batch_size,\n",
    "                                class_mode='binary', \n",
    "                                shuffle=False)\n",
    "    \n",
    "    predictions = model_final.predict_generator(generator, steps=np.ceil(nb_validation_samples/16))   \n",
    "    \n",
    "    pred_labels = [0 if i <0.5 else 1 for i in predictions]\n",
    "\n",
    "    print ('')\n",
    "    print (classification_report(validation_labels, pred_labels))\n",
    "    print ('')\n",
    "    cm = confusion_matrix(validation_labels, pred_labels)\n",
    "    heatmap_labels = ['Damaged', 'Whole']\n",
    "    sns.heatmap(cm, annot=True, annot_kws={\"size\": 16}, \n",
    "            fmt='g', cmap='OrRd', xticklabels=heatmap_labels, yticklabels=heatmap_labels);\n",
    "    return cm"
   ]
  },
  {
   "cell_type": "code",
   "execution_count": 8,
   "metadata": {},
   "outputs": [],
   "source": [
    "location=\"/home/18MCB1016/Documents/myyy rbl/orginalDamage/data1a\"\n",
    "top_model=location+'/top_model.h5'"
   ]
  },
  {
   "cell_type": "code",
   "execution_count": 11,
   "metadata": {},
   "outputs": [],
   "source": [
    "train_data_dir = location+'/training'\n",
    "validation_data_dir = location+'/validation'\n",
    "img_width, img_height=128,128\n",
    "nb_epoch=50"
   ]
  },
  {
   "cell_type": "code",
   "execution_count": 12,
   "metadata": {},
   "outputs": [],
   "source": [
    "train_samples = [len(os.listdir(train_data_dir+'/'+i)) for i in sorted(os.listdir(train_data_dir))]\n",
    "nb_train_samples = sum(train_samples)\n",
    "validation_samples = [len(os.listdir(validation_data_dir+'/'+i)) for i in sorted(os.listdir(validation_data_dir))]\n",
    "nb_validation_samples = sum(validation_samples)\n",
    "batch_size=16"
   ]
  },
  {
   "cell_type": "code",
   "execution_count": 13,
   "metadata": {},
   "outputs": [
    {
     "name": "stderr",
     "output_type": "stream",
     "text": [
      "/usr/lib/python3.5/site-packages/ipykernel_launcher.py:9: UserWarning: Update your `Dense` call to the Keras 2 API: `Dense(256, kernel_regularizer=<keras.reg..., activation=\"relu\")`\n",
      "  if __name__ == '__main__':\n",
      "/usr/lib/python3.5/site-packages/ipykernel_launcher.py:12: UserWarning: Update your `Model` call to the Keras 2 API: `Model(outputs=Tensor(\"de..., inputs=Tensor(\"in...)`\n",
      "  if sys.path[0] == '':\n"
     ]
    },
    {
     "name": "stdout",
     "output_type": "stream",
     "text": [
      "Found 1840 images belonging to 2 classes.\n",
      "Found 460 images belonging to 2 classes.\n"
     ]
    },
    {
     "name": "stderr",
     "output_type": "stream",
     "text": [
      "/usr/lib/python3.5/site-packages/ipykernel_launcher.py:41: UserWarning: The semantics of the Keras 2 argument `steps_per_epoch` is not the same as the Keras 1 argument `samples_per_epoch`. `steps_per_epoch` is the number of batches to draw from the generator at each epoch. Basically steps_per_epoch = samples_per_epoch/batch_size. Similarly `nb_val_samples`->`validation_steps` and `val_samples`->`steps` arguments have changed. Update your method calls accordingly.\n",
      "/usr/lib/python3.5/site-packages/ipykernel_launcher.py:41: UserWarning: Update your `fit_generator` call to the Keras 2 API: `fit_generator(<keras_pre..., validation_data=<keras_pre..., validation_steps=28, verbose=1, steps_per_epoch=115, callbacks=[<keras.ca..., epochs=50)`\n"
     ]
    },
    {
     "name": "stdout",
     "output_type": "stream",
     "text": [
      "Epoch 1/50\n",
      "115/115 [==============================] - 154s 1s/step - loss: 5.6462 - acc: 0.5668 - val_loss: 5.5342 - val_acc: 0.7031\n",
      "\n",
      "Epoch 00001: val_acc improved from -inf to 0.70312, saving model to /home/18MCB1016/Documents/myyy rbl/orginalDamage/data1a/top_model.h5\n",
      "Epoch 2/50\n",
      "115/115 [==============================] - 154s 1s/step - loss: 5.5552 - acc: 0.6505 - val_loss: 5.4948 - val_acc: 0.6892\n",
      "\n",
      "Epoch 00002: val_acc did not improve from 0.70312\n",
      "Epoch 3/50\n",
      "115/115 [==============================] - 157s 1s/step - loss: 5.4972 - acc: 0.6864 - val_loss: 5.4099 - val_acc: 0.7635\n",
      "\n",
      "Epoch 00003: val_acc improved from 0.70312 to 0.76351, saving model to /home/18MCB1016/Documents/myyy rbl/orginalDamage/data1a/top_model.h5\n",
      "Epoch 4/50\n",
      "115/115 [==============================] - 156s 1s/step - loss: 5.4526 - acc: 0.7152 - val_loss: 5.3991 - val_acc: 0.7162\n",
      "\n",
      "Epoch 00004: val_acc did not improve from 0.76351\n",
      "Epoch 5/50\n",
      "115/115 [==============================] - 156s 1s/step - loss: 5.4211 - acc: 0.7190 - val_loss: 5.3367 - val_acc: 0.7725\n",
      "\n",
      "Epoch 00005: val_acc improved from 0.76351 to 0.77252, saving model to /home/18MCB1016/Documents/myyy rbl/orginalDamage/data1a/top_model.h5\n",
      "Epoch 6/50\n",
      "115/115 [==============================] - 155s 1s/step - loss: 5.3861 - acc: 0.7288 - val_loss: 5.3302 - val_acc: 0.7432\n",
      "\n",
      "Epoch 00006: val_acc did not improve from 0.77252\n",
      "Epoch 7/50\n",
      "115/115 [==============================] - 155s 1s/step - loss: 5.3385 - acc: 0.7446 - val_loss: 5.2943 - val_acc: 0.7635\n",
      "\n",
      "Epoch 00007: val_acc did not improve from 0.77252\n",
      "Epoch 8/50\n",
      "115/115 [==============================] - 153s 1s/step - loss: 5.3164 - acc: 0.7375 - val_loss: 5.3049 - val_acc: 0.7162\n",
      "\n",
      "Epoch 00008: val_acc did not improve from 0.77252\n",
      "Epoch 9/50\n",
      "115/115 [==============================] - 154s 1s/step - loss: 5.2784 - acc: 0.7549 - val_loss: 5.1686 - val_acc: 0.8468\n",
      "\n",
      "Epoch 00009: val_acc improved from 0.77252 to 0.84685, saving model to /home/18MCB1016/Documents/myyy rbl/orginalDamage/data1a/top_model.h5\n",
      "Epoch 10/50\n",
      "115/115 [==============================] - 153s 1s/step - loss: 5.2488 - acc: 0.7560 - val_loss: 5.1563 - val_acc: 0.8288\n",
      "\n",
      "Epoch 00010: val_acc did not improve from 0.84685\n",
      "Epoch 11/50\n",
      "115/115 [==============================] - 154s 1s/step - loss: 5.2324 - acc: 0.7609 - val_loss: 5.1688 - val_acc: 0.8018\n",
      "\n",
      "Epoch 00011: val_acc did not improve from 0.84685\n",
      "Epoch 12/50\n",
      "115/115 [==============================] - 155s 1s/step - loss: 5.2153 - acc: 0.7522 - val_loss: 5.0911 - val_acc: 0.8243\n",
      "\n",
      "Epoch 00012: val_acc did not improve from 0.84685\n",
      "Epoch 13/50\n",
      "115/115 [==============================] - 154s 1s/step - loss: 5.1818 - acc: 0.7647 - val_loss: 5.1232 - val_acc: 0.7838\n",
      "\n",
      "Epoch 00013: val_acc did not improve from 0.84685\n",
      "Epoch 14/50\n",
      "115/115 [==============================] - 154s 1s/step - loss: 5.1557 - acc: 0.7609 - val_loss: 5.0613 - val_acc: 0.8333\n",
      "\n",
      "Epoch 00014: val_acc did not improve from 0.84685\n",
      "Epoch 15/50\n",
      "115/115 [==============================] - 154s 1s/step - loss: 5.1203 - acc: 0.7745 - val_loss: 5.0763 - val_acc: 0.7995\n",
      "\n",
      "Epoch 00015: val_acc did not improve from 0.84685\n",
      "Epoch 16/50\n",
      "115/115 [==============================] - 154s 1s/step - loss: 5.0939 - acc: 0.7810 - val_loss: 5.0536 - val_acc: 0.7950\n",
      "\n",
      "Epoch 00016: val_acc did not improve from 0.84685\n",
      "Epoch 17/50\n",
      "115/115 [==============================] - 154s 1s/step - loss: 5.0755 - acc: 0.7701 - val_loss: 5.0032 - val_acc: 0.8041\n",
      "\n",
      "Epoch 00017: val_acc did not improve from 0.84685\n",
      "Epoch 18/50\n",
      "115/115 [==============================] - 154s 1s/step - loss: 5.0667 - acc: 0.7739 - val_loss: 5.0043 - val_acc: 0.8018\n",
      "\n",
      "Epoch 00018: val_acc did not improve from 0.84685\n",
      "Epoch 19/50\n",
      "115/115 [==============================] - 154s 1s/step - loss: 5.0248 - acc: 0.7853 - val_loss: 4.9715 - val_acc: 0.8198\n",
      "\n",
      "Epoch 00019: val_acc did not improve from 0.84685\n",
      "Epoch 20/50\n",
      "115/115 [==============================] - 154s 1s/step - loss: 4.9985 - acc: 0.7880 - val_loss: 4.9675 - val_acc: 0.8086\n",
      "\n",
      "Epoch 00020: val_acc did not improve from 0.84685\n",
      "Epoch 21/50\n",
      "115/115 [==============================] - 154s 1s/step - loss: 4.9887 - acc: 0.7717 - val_loss: 4.9374 - val_acc: 0.7928\n",
      "\n",
      "Epoch 00021: val_acc did not improve from 0.84685\n",
      "Epoch 22/50\n",
      "115/115 [==============================] - 154s 1s/step - loss: 4.9669 - acc: 0.7793 - val_loss: 4.8514 - val_acc: 0.8604\n",
      "\n",
      "Epoch 00022: val_acc improved from 0.84685 to 0.86036, saving model to /home/18MCB1016/Documents/myyy rbl/orginalDamage/data1a/top_model.h5\n",
      "Epoch 23/50\n",
      "115/115 [==============================] - 154s 1s/step - loss: 4.9303 - acc: 0.7908 - val_loss: 4.8603 - val_acc: 0.8288\n",
      "\n",
      "Epoch 00023: val_acc did not improve from 0.86036\n",
      "Epoch 24/50\n",
      "115/115 [==============================] - 154s 1s/step - loss: 4.9167 - acc: 0.7853 - val_loss: 4.8406 - val_acc: 0.8356\n",
      "\n",
      "Epoch 00024: val_acc did not improve from 0.86036\n",
      "Epoch 25/50\n",
      "115/115 [==============================] - 154s 1s/step - loss: 4.8901 - acc: 0.7929 - val_loss: 4.8273 - val_acc: 0.8198\n",
      "\n",
      "Epoch 00025: val_acc did not improve from 0.86036\n",
      "Epoch 26/50\n",
      "115/115 [==============================] - 154s 1s/step - loss: 4.8616 - acc: 0.7918 - val_loss: 4.8123 - val_acc: 0.8221\n",
      "\n",
      "Epoch 00026: val_acc did not improve from 0.86036\n",
      "Epoch 27/50\n",
      "115/115 [==============================] - 154s 1s/step - loss: 4.8473 - acc: 0.7984 - val_loss: 4.7719 - val_acc: 0.8356\n",
      "\n",
      "Epoch 00027: val_acc did not improve from 0.86036\n",
      "Epoch 28/50\n",
      "115/115 [==============================] - 154s 1s/step - loss: 4.8252 - acc: 0.7875 - val_loss: 4.7680 - val_acc: 0.8311\n",
      "\n",
      "Epoch 00028: val_acc did not improve from 0.86036\n",
      "Epoch 29/50\n",
      "115/115 [==============================] - 154s 1s/step - loss: 4.8094 - acc: 0.7793 - val_loss: 4.7366 - val_acc: 0.8401\n",
      "\n",
      "Epoch 00029: val_acc did not improve from 0.86036\n",
      "Epoch 30/50\n",
      "115/115 [==============================] - 154s 1s/step - loss: 4.7846 - acc: 0.7935 - val_loss: 4.7328 - val_acc: 0.8259\n",
      "\n",
      "Epoch 00030: val_acc did not improve from 0.86036\n",
      "Epoch 31/50\n",
      "115/115 [==============================] - 154s 1s/step - loss: 4.7564 - acc: 0.8033 - val_loss: 4.6930 - val_acc: 0.8491\n",
      "\n",
      "Epoch 00031: val_acc did not improve from 0.86036\n",
      "Epoch 32/50\n",
      "115/115 [==============================] - 154s 1s/step - loss: 4.7526 - acc: 0.7755 - val_loss: 4.6962 - val_acc: 0.8153\n",
      "\n",
      "Epoch 00032: val_acc did not improve from 0.86036\n",
      "Epoch 33/50\n",
      "115/115 [==============================] - 154s 1s/step - loss: 4.7184 - acc: 0.7940 - val_loss: 4.6686 - val_acc: 0.8288\n",
      "\n",
      "Epoch 00033: val_acc did not improve from 0.86036\n",
      "Epoch 34/50\n",
      "115/115 [==============================] - 154s 1s/step - loss: 4.6981 - acc: 0.7940 - val_loss: 4.6097 - val_acc: 0.8423\n",
      "\n",
      "Epoch 00034: val_acc did not improve from 0.86036\n",
      "Epoch 35/50\n",
      "115/115 [==============================] - 154s 1s/step - loss: 4.6864 - acc: 0.7967 - val_loss: 4.6077 - val_acc: 0.8356\n",
      "\n",
      "Epoch 00035: val_acc did not improve from 0.86036\n",
      "Epoch 36/50\n",
      "115/115 [==============================] - 154s 1s/step - loss: 4.6384 - acc: 0.8016 - val_loss: 4.5768 - val_acc: 0.8581\n",
      "\n",
      "Epoch 00036: val_acc did not improve from 0.86036\n",
      "Epoch 37/50\n",
      "115/115 [==============================] - 154s 1s/step - loss: 4.6389 - acc: 0.7978 - val_loss: 4.6109 - val_acc: 0.8063\n",
      "\n",
      "Epoch 00037: val_acc did not improve from 0.86036\n",
      "Epoch 38/50\n",
      "115/115 [==============================] - 154s 1s/step - loss: 4.6108 - acc: 0.8120 - val_loss: 4.5316 - val_acc: 0.8468\n",
      "\n",
      "Epoch 00038: val_acc did not improve from 0.86036\n",
      "Epoch 39/50\n",
      "115/115 [==============================] - 154s 1s/step - loss: 4.5880 - acc: 0.8027 - val_loss: 4.5423 - val_acc: 0.8243\n",
      "\n",
      "Epoch 00039: val_acc did not improve from 0.86036\n",
      "Epoch 40/50\n",
      "115/115 [==============================] - 154s 1s/step - loss: 4.5698 - acc: 0.8136 - val_loss: 4.5815 - val_acc: 0.7860\n",
      "\n",
      "Epoch 00040: val_acc did not improve from 0.86036\n",
      "Epoch 41/50\n",
      "115/115 [==============================] - 154s 1s/step - loss: 4.5460 - acc: 0.8060 - val_loss: 4.5355 - val_acc: 0.8243\n",
      "\n",
      "Epoch 00041: val_acc did not improve from 0.86036\n",
      "Epoch 42/50\n",
      "115/115 [==============================] - 154s 1s/step - loss: 4.5299 - acc: 0.7978 - val_loss: 4.5020 - val_acc: 0.8153\n",
      "\n",
      "Epoch 00042: val_acc did not improve from 0.86036\n",
      "Epoch 43/50\n"
     ]
    },
    {
     "name": "stdout",
     "output_type": "stream",
     "text": [
      "115/115 [==============================] - 153s 1s/step - loss: 4.5206 - acc: 0.7946 - val_loss: 4.4393 - val_acc: 0.8401\n",
      "\n",
      "Epoch 00043: val_acc did not improve from 0.86036\n",
      "Epoch 44/50\n",
      "115/115 [==============================] - 153s 1s/step - loss: 4.5006 - acc: 0.8103 - val_loss: 4.4488 - val_acc: 0.8333\n",
      "\n",
      "Epoch 00044: val_acc did not improve from 0.86036\n",
      "Epoch 45/50\n",
      "115/115 [==============================] - 153s 1s/step - loss: 4.4775 - acc: 0.8043 - val_loss: 4.4562 - val_acc: 0.8063\n",
      "\n",
      "Epoch 00045: val_acc did not improve from 0.86036\n",
      "Epoch 46/50\n",
      "115/115 [==============================] - 153s 1s/step - loss: 4.4450 - acc: 0.8152 - val_loss: 4.3744 - val_acc: 0.8536\n",
      "\n",
      "Epoch 00046: val_acc did not improve from 0.86036\n",
      "Epoch 47/50\n",
      "115/115 [==============================] - 153s 1s/step - loss: 4.4256 - acc: 0.8190 - val_loss: 4.4088 - val_acc: 0.8198\n",
      "\n",
      "Epoch 00047: val_acc did not improve from 0.86036\n",
      "Epoch 48/50\n",
      "115/115 [==============================] - 153s 1s/step - loss: 4.4097 - acc: 0.8098 - val_loss: 4.3617 - val_acc: 0.8266\n",
      "\n",
      "Epoch 00048: val_acc did not improve from 0.86036\n",
      "Epoch 49/50\n",
      "115/115 [==============================] - 153s 1s/step - loss: 4.3891 - acc: 0.8217 - val_loss: 4.3327 - val_acc: 0.8378\n",
      "\n",
      "Epoch 00049: val_acc did not improve from 0.86036\n",
      "Epoch 50/50\n",
      "115/115 [==============================] - 153s 1s/step - loss: 4.3759 - acc: 0.8092 - val_loss: 4.3363 - val_acc: 0.8311\n",
      "\n",
      "Epoch 00050: val_acc did not improve from 0.86036\n"
     ]
    }
   ],
   "source": [
    " d1a_model1, d1a_history1 =train_binary_model()"
   ]
  },
  {
   "cell_type": "code",
   "execution_count": null,
   "metadata": {},
   "outputs": [],
   "source": [
    "train_b"
   ]
  },
  {
   "cell_type": "code",
   "execution_count": 24,
   "metadata": {},
   "outputs": [
    {
     "data": {
      "image/png": "[encoded data removed]",
      "text/plain": [
       "<Figure size 720x288 with 2 Axes>"
      ]
     },
     "metadata": {
      "needs_background": "light"
     },
     "output_type": "display_data"
    }
   ],
   "source": [
    "plot_metrics(d1a_history1)"
   ]
  },
  {
   "cell_type": "code",
   "execution_count": 18,
   "metadata": {},
   "outputs": [],
   "source": [
    "validation_labels = np.array([0] * validation_samples[0] + \n",
    "                             [1] * validation_samples[1])"
   ]
  },
  {
   "cell_type": "code",
   "execution_count": 17,
   "metadata": {},
   "outputs": [],
   "source": [
    "model_final.load_weights(location + '/top_model.h5')"
   ]
  },
  {
   "cell_type": "code",
   "execution_count": 21,
   "metadata": {},
   "outputs": [
    {
     "name": "stdout",
     "output_type": "stream",
     "text": [
      "Found 460 images belonging to 2 classes.\n",
      "\n",
      "              precision    recall  f1-score   support\n",
      "\n",
      "           0       0.90      0.76      0.83       230\n",
      "           1       0.79      0.92      0.85       230\n",
      "\n",
      "   micro avg       0.84      0.84      0.84       460\n",
      "   macro avg       0.85      0.84      0.84       460\n",
      "weighted avg       0.85      0.84      0.84       460\n",
      "\n",
      "\n"
     ]
    },
    {
     "data": {
      "image/png": "[encoded data removed]",
      "text/plain": [
       "<Figure size 432x288 with 2 Axes>"
      ]
     },
     "metadata": {
      "needs_background": "light"
     },
     "output_type": "display_data"
    }
   ],
   "source": [
    "cm = evaluate_binary_model(model_final, validation_data_dir, validation_labels)"
   ]
  },
  {
   "cell_type": "code",
   "execution_count": 28,
   "metadata": {},
   "outputs": [],
   "source": [
    "def car_damage(img_dir,model_pred):\n",
    "    img = image.load_img(img_dir, target_size=(128, 128)) # this is a PIL image \n",
    "    x = image.img_to_array(img) # this is a Numpy array with shape (3, 256, 256)\n",
    "    x = x.reshape((1,) + x.shape)/255 # this is a Numpy array with shape (1, 3, 256, 256)\n",
    "    pred = model_pred.predict(x)\n",
    "    print (\"Validating that damage exists...\")\n",
    "    print (pred)\n",
    "    if pred[0][0] <=.5:\n",
    "\n",
    "        print (\"proceed to location and severity determination\")\n",
    "    else:\n",
    "        print (\"Are you sure that your car is damaged? Please submit another picture of the damage.\")\n",
    "        \n",
    "        \n",
    "        \n"
   ]
  },
  {
   "cell_type": "code",
   "execution_count": 29,
   "metadata": {},
   "outputs": [
    {
     "name": "stdout",
     "output_type": "stream",
     "text": [
      "Validating that damage exists...\n",
      "[[0.6262513]]\n",
      "Are you sure that your car is damaged? Please submit another picture of the damage.\n"
     ]
    }
   ],
   "source": [
    "car_damage(\"/home/18MCB1016/Documents/myyy rbl/05.jpg\",model_final)"
   ]
  }
 ],
 "metadata": {
  "kernelspec": {
   "display_name": "Python 3",
   "language": "python",
   "name": "python3"
  },
  "language_info": {
   "codemirror_mode": {
    "name": "ipython",
    "version": 3
   },
   "file_extension": ".py",
   "mimetype": "text/x-python",
   "name": "python",
   "nbconvert_exporter": "python",
   "pygments_lexer": "ipython3",
   "version": "3.7.1"
  }
 },
 "nbformat": 4,
 "nbformat_minor": 2
}
