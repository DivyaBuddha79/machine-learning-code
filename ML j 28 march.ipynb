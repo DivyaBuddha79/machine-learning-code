{
 "cells": [
  {
   "cell_type": "code",
   "execution_count": 32,
   "metadata": {},
   "outputs": [],
   "source": [
    "import lightgbm as lgb\n",
    "import xgboost as xgb\n",
    "import os\n",
    "import gc\n",
    "import json\n",
    "import time\n",
    "from datetime import datetime\n",
    "import numpy as np\n",
    "import pandas as pd\n",
    "from pandas.io.json import json_normalize\n",
    "import matplotlib.pyplot as plt\n",
    "import warnings\n",
    "warnings.filterwarnings('ignore')\n",
    "\n",
    "from sklearn.model_selection import train_test_split\n",
    "from sklearn.metrics import mean_squared_error"
   ]
  },
  {
   "cell_type": "code",
   "execution_count": 33,
   "metadata": {},
   "outputs": [],
   "source": [
    "INPUT_TRAIN = \"F:/ML PROJECT/data/train_v2.csv\"\n",
    "\n",
    "TRAIN='train-processed.csv'\n",
    "Y='y.csv'"
   ]
  },
  {
   "cell_type": "code",
   "execution_count": 34,
   "metadata": {},
   "outputs": [],
   "source": [
    "def load_df(csv_path=INPUT_TRAIN, nrows=90000):\n",
    "    print(\"Loading \"+csv_path)\n",
    "    JSON_COLUMNS = ['device', 'geoNetwork', 'totals', 'trafficSource']\n",
    "    \n",
    "    df = pd.read_csv(csv_path, \n",
    "                     converters={column: json.loads for column in JSON_COLUMNS}, \n",
    "                     dtype={'fullVisitorId': 'str'},\n",
    "                     nrows=nrows)\n",
    "    for column in JSON_COLUMNS:\n",
    "        column_as_df = json_normalize(df[column])\n",
    "        column_as_df.columns = [f\"{column}.{subcolumn}\" for subcolumn in column_as_df.columns]\n",
    "        df = df.drop(column, axis=1).merge(column_as_df, right_index=True, left_index=True)\n",
    "    print(f\"Loaded {os.path.basename(csv_path)}. Shape: {df.shape}\")\n",
    "    return df\n",
    "\n",
    "\n",
    "def process_dfs(train_df):\n",
    "    print(\"Processing dfs...\")\n",
    "    print(\"Dropping repeated columns...\")\n",
    "    columns = [col for col in train_df.columns if train_df[col].nunique() > 1]\n",
    "    \n",
    "    train_df = train_df[columns]\n",
    "    \n",
    "\n",
    "    trn_len = train_df.shape[0]\n",
    "    merged_df = pd.concat([train_df])\n",
    "\n",
    "    merged_df['diff_visitId_time'] = merged_df['visitId'] - merged_df['visitStartTime']\n",
    "    merged_df['diff_visitId_time'] = (merged_df['diff_visitId_time'] != 0).astype(int)\n",
    "    del merged_df['visitId']\n",
    "\n",
    "    print(\"Generating date columns...\")\n",
    "    format_str = '%Y%m%d' \n",
    "    merged_df['formated_date'] = merged_df['date'].apply(lambda x: datetime.strptime(str(x), format_str))\n",
    "    merged_df['WoY'] = merged_df['formated_date'].apply(lambda x: x.isocalendar()[1])\n",
    "    merged_df['month'] = merged_df['formated_date'].apply(lambda x:x.month)\n",
    "    merged_df['quarter_month'] = merged_df['formated_date'].apply(lambda x:x.day//8)\n",
    "    merged_df['weekday'] = merged_df['formated_date'].apply(lambda x:x.weekday())\n",
    "\n",
    "    del merged_df['date']\n",
    "    del merged_df['formated_date']\n",
    "\n",
    "    merged_df['formated_visitStartTime'] = merged_df['visitStartTime'].apply(\n",
    "        lambda x: time.strftime('%Y-%m-%d %H:%M:%S', time.localtime(x)))\n",
    "    merged_df['formated_visitStartTime'] = pd.to_datetime(merged_df['formated_visitStartTime'])\n",
    "    merged_df['visit_hour'] = merged_df['formated_visitStartTime'].apply(lambda x: x.hour)\n",
    "\n",
    "    del merged_df['visitStartTime']\n",
    "    del merged_df['formated_visitStartTime']\n",
    "\n",
    "    print(\"Encoding columns with pd.factorize()\")\n",
    "    for col in merged_df.columns:\n",
    "        if col in ['fullVisitorId', 'month', 'quarter_month', 'weekday', 'visit_hour', 'WoY']: continue\n",
    "        if merged_df[col].dtypes == object or merged_df[col].dtypes == bool:\n",
    "            merged_df[col], indexer = pd.factorize(merged_df[col])\n",
    "\n",
    "    print(\"Splitting back...\")\n",
    "    train_df = merged_df[:trn_len]\n",
    "    return train_df\n",
    "\n",
    "def preprocess():\n",
    "    train_df = load_df()\n",
    "\n",
    "\n",
    "    target = train_df['totals.transactionRevenue'].fillna(0).astype(float)\n",
    "    target = target.apply(lambda x: np.log1p(x))\n",
    "    del train_df['totals.transactionRevenue']\n",
    "\n",
    "    train_df = process_dfs(train_df)\n",
    "    train_df.to_csv(TRAIN, index=False)\n",
    "    target.to_csv(Y, index=False)\n"
   ]
  },
  {
   "cell_type": "code",
   "execution_count": 35,
   "metadata": {},
   "outputs": [
    {
     "name": "stdout",
     "output_type": "stream",
     "text": [
      "Loading F:/ML PROJECT/data/train_v2.csv\n",
      "Loaded train_v2.csv. Shape: (90000, 59)\n",
      "Processing dfs...\n",
      "Dropping repeated columns...\n",
      "Generating date columns...\n",
      "Encoding columns with pd.factorize()\n",
      "Splitting back...\n",
      "Wall time: 39.6 s\n"
     ]
    }
   ],
   "source": [
    "%%time\n",
    "preprocess()"
   ]
  },
  {
   "cell_type": "code",
   "execution_count": 36,
   "metadata": {},
   "outputs": [],
   "source": [
    "def rmse(y_true, y_pred):\n",
    "    return round(np.sqrt(mean_squared_error(y_true, y_pred)), 5)\n",
    "\n",
    "def load_preprocessed_dfs(drop_full_visitor_id=True):\n",
    "    \"\"\"\n",
    "    Loads files `TRAIN`, `TEST` and `Y` generated by preprocess() into variables\n",
    "    \"\"\"\n",
    "    X_train = pd.read_csv(TRAIN, converters={'fullVisitorId': str})\n",
    "    y_train = pd.read_csv(Y, names=['LogRevenue']).T.squeeze()\n",
    "    if drop_full_visitor_id: \n",
    "        X_train = X_train.drop(['fullVisitorId'], axis=1)\n",
    "    return X_train, y_train"
   ]
  },
  {
   "cell_type": "code",
   "execution_count": 37,
   "metadata": {},
   "outputs": [
    {
     "name": "stdout",
     "output_type": "stream",
     "text": [
      "Train shape: (72000, 37)\n",
      "Test shape: (18000, 37)\n",
      "Test shape: (18000,)\n"
     ]
    }
   ],
   "source": [
    "X, y = load_preprocessed_dfs()\n",
    "X_train,X_test,y_train,y_test= train_test_split(X, y, test_size=0.20, random_state=0)\n",
    "\n",
    "print(f\"Train shape: {X_train.shape}\")\n",
    "print(f\"Test shape: {X_test.shape}\")\n",
    "print(f\"Test shape: {y_test.shape}\")"
   ]
  },
  {
   "cell_type": "code",
   "execution_count": 38,
   "metadata": {},
   "outputs": [
    {
     "data": {
      "text/plain": [
       "DecisionTreeRegressor(criterion='mse', max_depth=5, max_features=None,\n",
       "           max_leaf_nodes=None, min_impurity_decrease=0.0,\n",
       "           min_impurity_split=None, min_samples_leaf=1,\n",
       "           min_samples_split=2, min_weight_fraction_leaf=0.0,\n",
       "           presort=False, random_state=None, splitter='best')"
      ]
     },
     "execution_count": 38,
     "metadata": {},
     "output_type": "execute_result"
    }
   ],
   "source": [
    "from sklearn.tree import DecisionTreeRegressor\n",
    "regr_2 = DecisionTreeRegressor(max_depth=5)\n",
    "regr_2.fit(X_train,y_train)"
   ]
  },
  {
   "cell_type": "code",
   "execution_count": 39,
   "metadata": {},
   "outputs": [],
   "source": [
    "y_preddt=regr_2.predict(X_test)\n",
    "df=pd.DataFrame({'Actual':y_test, 'Predicted':y_preddt})  \n",
    "df  \n",
    "df.to_csv(\"F:/result.csv\")"
   ]
  },
  {
   "cell_type": "code",
   "execution_count": 40,
   "metadata": {},
   "outputs": [
    {
     "name": "stdout",
     "output_type": "stream",
     "text": [
      "Mean Absolute Error: 0.00892677310712549\n",
      "Mean Squared Error: 0.014276394060909534\n",
      "Root Mean Squared Error: 0.11948386527439399\n"
     ]
    }
   ],
   "source": [
    "from sklearn import metrics  \n",
    "print('Mean Absolute Error:', metrics.mean_absolute_error(y_test, y_preddt))  \n",
    "print('Mean Squared Error:', metrics.mean_squared_error(y_test, y_preddt))  \n",
    "print('Root Mean Squared Error:', np.sqrt(metrics.mean_squared_error(y_test, y_preddt)))  "
   ]
  },
  {
   "cell_type": "code",
   "execution_count": 41,
   "metadata": {},
   "outputs": [
    {
     "data": {
      "text/plain": [
       "DecisionTreeRegressor(criterion='mse', max_depth=10, max_features=None,\n",
       "           max_leaf_nodes=None, min_impurity_decrease=0.0,\n",
       "           min_impurity_split=None, min_samples_leaf=1,\n",
       "           min_samples_split=2, min_weight_fraction_leaf=0.0,\n",
       "           presort=False, random_state=None, splitter='best')"
      ]
     },
     "execution_count": 41,
     "metadata": {},
     "output_type": "execute_result"
    }
   ],
   "source": [
    "regr_3 = DecisionTreeRegressor(max_depth=10)\n",
    "regr_3.fit(X_train,y_train)"
   ]
  },
  {
   "cell_type": "code",
   "execution_count": 42,
   "metadata": {},
   "outputs": [],
   "source": [
    "y_predr=regr_3.predict(X_test)\n",
    "df=pd.DataFrame({'Actual':y_test, 'Predicted':y_predr})  \n",
    "df  \n",
    "df.to_csv(\"F:/result1.csv\")"
   ]
  },
  {
   "cell_type": "code",
   "execution_count": 43,
   "metadata": {},
   "outputs": [
    {
     "name": "stdout",
     "output_type": "stream",
     "text": [
      "Mean Absolute Error: 0.010466840405602041\n",
      "Mean Squared Error: 0.018642096831211513\n",
      "Root Mean Squared Error: 0.1365360642145932\n"
     ]
    }
   ],
   "source": [
    "print('Mean Absolute Error:', metrics.mean_absolute_error(y_test, y_predr))  \n",
    "print('Mean Squared Error:', metrics.mean_squared_error(y_test, y_predr))  \n",
    "print('Root Mean Squared Error:', np.sqrt(metrics.mean_squared_error(y_test, y_predr)))  "
   ]
  },
  {
   "cell_type": "code",
   "execution_count": 44,
   "metadata": {},
   "outputs": [],
   "source": [
    "xgboost = xgb.XGBRegressor(n_estimators=100, learning_rate=0.08, gamma=0, subsample=0.75,\n",
    "                           colsample_bytree=1, max_depth=7)"
   ]
  },
  {
   "cell_type": "code",
   "execution_count": 45,
   "metadata": {},
   "outputs": [
    {
     "data": {
      "text/plain": [
       "XGBRegressor(base_score=0.5, booster='gbtree', colsample_bylevel=1,\n",
       "       colsample_bytree=1, gamma=0, importance_type='gain',\n",
       "       learning_rate=0.08, max_delta_step=0, max_depth=7,\n",
       "       min_child_weight=1, missing=None, n_estimators=100, n_jobs=1,\n",
       "       nthread=None, objective='reg:linear', random_state=0, reg_alpha=0,\n",
       "       reg_lambda=1, scale_pos_weight=1, seed=None, silent=True,\n",
       "       subsample=0.75)"
      ]
     },
     "execution_count": 45,
     "metadata": {},
     "output_type": "execute_result"
    }
   ],
   "source": [
    "xgboost.fit(X_train,y_train)"
   ]
  },
  {
   "cell_type": "code",
   "execution_count": 46,
   "metadata": {},
   "outputs": [],
   "source": [
    "from sklearn.metrics import explained_variance_score\n",
    "predictions = xgboost.predict(X_test)"
   ]
  },
  {
   "cell_type": "code",
   "execution_count": 47,
   "metadata": {},
   "outputs": [
    {
     "name": "stdout",
     "output_type": "stream",
     "text": [
      "Mean Absolute Error: 0.008319183060689019\n",
      "Mean Squared Error: 0.012108989174894898\n",
      "Root Mean Squared Error: 0.11004085229992949\n"
     ]
    }
   ],
   "source": [
    "print('Mean Absolute Error:', metrics.mean_absolute_error(y_test, predictions))  \n",
    "print('Mean Squared Error:', metrics.mean_squared_error(y_test, predictions))  \n",
    "print('Root Mean Squared Error:', np.sqrt(metrics.mean_squared_error(y_test, predictions)))  "
   ]
  },
  {
   "cell_type": "code",
   "execution_count": 48,
   "metadata": {},
   "outputs": [],
   "source": [
    "import lightgbm as lgb\n",
    "d_train = lgb.Dataset(X_train, label=y_train)\n",
    "params = {}\n",
    "params['learning_rate'] = 0.003\n",
    "params['boosting_type'] = 'gbdt'\n",
    "params['objective'] = 'regression '\n",
    "params['metric'] = 'mse'\n",
    "params['sub_feature'] = 0.5\n",
    "params['num_leaves'] = 10\n",
    "params['min_data'] = 50\n",
    "params['max_depth'] = 10\n",
    "clf = lgb.train(params, d_train, 100)"
   ]
  },
  {
   "cell_type": "code",
   "execution_count": 49,
   "metadata": {},
   "outputs": [],
   "source": [
    "y_predl=clf.predict(X_test)\n",
    "for i in range(0,99):\n",
    "    if y_predl[i]>=.5:       \n",
    "       y_predl[i]=1\n",
    "    else:  \n",
    "       y_predl[i]=0"
   ]
  },
  {
   "cell_type": "code",
   "execution_count": 50,
   "metadata": {},
   "outputs": [
    {
     "name": "stdout",
     "output_type": "stream",
     "text": [
      "Mean Absolute Error: 0.2787510722253498\n",
      "Mean Squared Error: 1.9285947919841557\n",
      "Root Mean Squared Error: 1.3887385614233356\n"
     ]
    }
   ],
   "source": [
    "print('Mean Absolute Error:', metrics.mean_absolute_error(y_test, y_predl))  \n",
    "print('Mean Squared Error:', metrics.mean_squared_error(y_test, y_predl))  \n",
    "print('Root Mean Squared Error:', np.sqrt(metrics.mean_squared_error(y_test, y_predl)))  "
   ]
  },
  {
   "cell_type": "code",
   "execution_count": 51,
   "metadata": {},
   "outputs": [
    {
     "data": {
      "text/plain": [
       "SVR(C=1.0, cache_size=200, coef0=0.0, degree=3, epsilon=0.2, gamma='scale',\n",
       "  kernel='rbf', max_iter=-1, shrinking=True, tol=0.001, verbose=False)"
      ]
     },
     "execution_count": 51,
     "metadata": {},
     "output_type": "execute_result"
    }
   ],
   "source": [
    "from sklearn.svm import SVR\n",
    "clf = SVR(gamma='scale', C=1.0, epsilon=0.2)\n",
    "clf.fit(X_train, y_train) "
   ]
  },
  {
   "cell_type": "code",
   "execution_count": 52,
   "metadata": {},
   "outputs": [],
   "source": [
    "predsvr=clf.predict(X_test)"
   ]
  },
  {
   "cell_type": "code",
   "execution_count": 53,
   "metadata": {},
   "outputs": [
    {
     "name": "stdout",
     "output_type": "stream",
     "text": [
      "Mean Absolute Error: 0.3729817732611874\n",
      "Mean Squared Error: 3.120046939821897\n",
      "Root Mean Squared Error: 1.766365460436174\n"
     ]
    }
   ],
   "source": [
    "print('Mean Absolute Error:', metrics.mean_absolute_error(y_test, predsvr))  \n",
    "print('Mean Squared Error:', metrics.mean_squared_error(y_test, predsvr))  \n",
    "print('Root Mean Squared Error:', np.sqrt(metrics.mean_squared_error(y_test, predsvr)))  "
   ]
  },
  {
   "cell_type": "code",
   "execution_count": null,
   "metadata": {},
   "outputs": [],
   "source": []
  }
 ],
 "metadata": {
  "kernelspec": {
   "display_name": "Python 3",
   "language": "python",
   "name": "python3"
  },
  "language_info": {
   "codemirror_mode": {
    "name": "ipython",
    "version": 3
   },
   "file_extension": ".py",
   "mimetype": "text/x-python",
   "name": "python",
   "nbconvert_exporter": "python",
   "pygments_lexer": "ipython3",
   "version": "3.7.0"
  }
 },
 "nbformat": 4,
 "nbformat_minor": 2
}
